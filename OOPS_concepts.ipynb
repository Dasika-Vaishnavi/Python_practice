{
  "nbformat": 4,
  "nbformat_minor": 0,
  "metadata": {
    "colab": {
      "provenance": [],
      "authorship_tag": "ABX9TyMFEfbiUabOErp6dZZo7Gam",
      "include_colab_link": true
    },
    "kernelspec": {
      "name": "python3",
      "display_name": "Python 3"
    },
    "language_info": {
      "name": "python"
    }
  },
  "cells": [
    {
      "cell_type": "markdown",
      "metadata": {
        "id": "view-in-github",
        "colab_type": "text"
      },
      "source": [
        "<a href=\"https://colab.research.google.com/github/Dasika-Vaishnavi/Python_practice/blob/main/OOPS_concepts.ipynb\" target=\"_parent\"><img src=\"https://colab.research.google.com/assets/colab-badge.svg\" alt=\"Open In Colab\"/></a>"
      ]
    },
    {
      "cell_type": "markdown",
      "source": [
        "# OOPS programming"
      ],
      "metadata": {
        "id": "TbaJ-oWJ7jA3"
      }
    },
    {
      "cell_type": "code",
      "source": [
        "class cat:\n",
        "  def __init__(self, name, age):\n",
        "    self.name = name\n",
        "    self.age = age\n",
        "\n",
        "  def purr(self):\n",
        "    print(f\"{self.name} says: Meow\")\n",
        "    print(f\"{self.name} is {self.age} year old and says: Meow\")\n",
        "    print(f\"{self.name} aged {self.age} says: Meow\")\n",
        "\n",
        "\n",
        "my_cat = cat(\"butter\", 1)\n",
        "my_cat.purr()"
      ],
      "metadata": {
        "colab": {
          "base_uri": "https://localhost:8080/"
        },
        "id": "-71vl2yc4jYy",
        "outputId": "12c44835-831a-459c-c0d9-18ef9addb7d0"
      },
      "execution_count": null,
      "outputs": [
        {
          "output_type": "stream",
          "name": "stdout",
          "text": [
            "butter says: Meow\n",
            "butter is 1 year old and says: Meow\n",
            "butter aged 1 says: Meow\n"
          ]
        }
      ]
    },
    {
      "cell_type": "markdown",
      "source": [
        "# 1. Encapsulation:\n",
        "Encapsulation is the practice of bundling the data (attributes) and methods (functions) that operate on that data into a single unit called a class."
      ],
      "metadata": {
        "id": "1glPyMOh7nXX"
      }
    },
    {
      "cell_type": "code",
      "source": [
        "class Cat:\n",
        "    def __init__(self, name, age):\n",
        "        self.name = name\n",
        "        self.age = age\n",
        "\n",
        "    def purr(self):\n",
        "        print(f\"The name of the cat is {self.name} and he is {self.age} years old.\")\n",
        "\n",
        "# Creating instances of the Cat class\n",
        "my_cat = Cat(\"Tom\", 16)\n",
        "puru_cat = Cat(\"Butter\", 1)\n",
        "\n",
        "my_cat.purr()\n",
        "puru_cat.purr()\n"
      ],
      "metadata": {
        "colab": {
          "base_uri": "https://localhost:8080/"
        },
        "id": "tP-cqcES8a28",
        "outputId": "c2698b12-c995-4577-ff86-3d55da279946"
      },
      "execution_count": null,
      "outputs": [
        {
          "output_type": "stream",
          "name": "stdout",
          "text": [
            "The name of the cat is Tom and he is 16 years old.\n",
            "The name of the cat is Butter and he is 1 years old.\n"
          ]
        }
      ]
    },
    {
      "cell_type": "code",
      "source": [
        "class Vaishnavi():\n",
        "  def __init__(self, career, goal):\n",
        "    self.career = career\n",
        "    self.goal = goal\n",
        "\n",
        "  def my_life(self):\n",
        "    print(f\"I want a life in {self.career} and want to crack {self.goal}\")\n",
        "\n",
        "goal_1 = Vaishnavi(\"Govt\", \"ISRO\")\n",
        "goal_2 = Vaishnavi(\"Corp\", \"DE.Shaw\")\n",
        "\n",
        "goal_1.my_life()\n",
        "goal_2.my_life()"
      ],
      "metadata": {
        "colab": {
          "base_uri": "https://localhost:8080/"
        },
        "id": "EJgPNt5-9Oz-",
        "outputId": "742dab7c-e592-4d27-beb6-44fb350ad1f1"
      },
      "execution_count": null,
      "outputs": [
        {
          "output_type": "stream",
          "name": "stdout",
          "text": [
            "I want a life in Govt and want to crack ISRO\n",
            "I want a life in Corp and want to crack DE.Shaw\n"
          ]
        }
      ]
    },
    {
      "cell_type": "markdown",
      "source": [
        "# 2. Inheritance:\n",
        "Inheritance allows a class (subclass or derived class) to inherit attributes and methods from another class (superclass or base class)."
      ],
      "metadata": {
        "id": "Co_uHtFq_OMW"
      }
    },
    {
      "cell_type": "code",
      "source": [
        "class Animal:\n",
        "    def __init__(self, name):\n",
        "        self.name = name\n",
        "\n",
        "    def speak(self):\n",
        "        pass\n",
        "\n",
        "class Dog(Animal):\n",
        "    def speak(self):\n",
        "        return f\"{self.name} says Woof!\"\n",
        "\n",
        "# Creating instances of Animal and Dog\n",
        "my_animal = Animal(\"Generic\")\n",
        "my_dog = Dog(\"Buddy\")\n",
        "\n",
        "print(my_animal.speak())  # Output: No sound (since Animal class has no speak method)\n",
        "print(my_dog.speak())     # Output: Buddy says Woof!\n"
      ],
      "metadata": {
        "colab": {
          "base_uri": "https://localhost:8080/"
        },
        "id": "Fpi3Ee0L-bI-",
        "outputId": "89c1ae23-ce58-4e11-fcaa-825837df152e"
      },
      "execution_count": null,
      "outputs": [
        {
          "output_type": "stream",
          "name": "stdout",
          "text": [
            "None\n",
            "Buddy says Woof!\n"
          ]
        }
      ]
    },
    {
      "cell_type": "markdown",
      "source": [
        "## 2.1 Super keyword\n",
        "\n",
        "super keyword is essential for maintaining inheritance hierarchies, ensuring proper method and constructor calls in both single and multiple inheritance scenarios, and allowing child classes to build upon the functionality of their parent classes."
      ],
      "metadata": {
        "id": "r1CgQ__9hH7t"
      }
    },
    {
      "cell_type": "code",
      "source": [
        "class Parent1:\n",
        "    def method(self):\n",
        "        print(\"Method from Parent1\")\n",
        "\n",
        "class Parent2:\n",
        "    def method(self):\n",
        "        print(\"Method from Parent2\")\n",
        "\n",
        "class Child(Parent1, Parent2):\n",
        "    def call_methods(self):\n",
        "        super(Parent1, self).method()  # Call method from Parent1\n",
        "        super(Parent2, self).method()  # Call method from Parent2\n",
        "\n",
        "child = Child()\n",
        "child.call_methods()\n"
      ],
      "metadata": {
        "id": "TNCzbsp6hM2c"
      },
      "execution_count": null,
      "outputs": []
    },
    {
      "cell_type": "code",
      "source": [
        "class Parent:\n",
        "    def some_method(self):\n",
        "        print(\"This is a method in the parent class\")\n",
        "\n",
        "class Child(Parent):\n",
        "    def some_method(self):\n",
        "        super().some_method()  # Call the parent class method\n",
        "        print(\"This is an extension in the child class\")\n",
        "\n",
        "child = Child()\n",
        "child.some_method()\n"
      ],
      "metadata": {
        "colab": {
          "base_uri": "https://localhost:8080/"
        },
        "id": "A0jnIjKrhGLC",
        "outputId": "af7d9b72-b245-4889-8c4a-505e914a443b"
      },
      "execution_count": 58,
      "outputs": [
        {
          "output_type": "stream",
          "name": "stdout",
          "text": [
            "This is a method in the parent class\n",
            "This is an extension in the child class\n"
          ]
        }
      ]
    },
    {
      "cell_type": "code",
      "source": [
        "class Graduate:\n",
        "    def __init__(self, name):\n",
        "        self.name = name\n",
        "\n",
        "    def set_branch(self, branch):\n",
        "        self.branch = branch\n",
        "\n",
        "    def set_core(self, core):\n",
        "        self.core = core\n",
        "\n",
        "class CSE(Graduate):\n",
        "    def __init__(self, name):\n",
        "        super().__init__(name)\n",
        "\n",
        "    def graduation_details(self):\n",
        "        return f\"{self.name} is graduating in {self.branch} with specialization in {self.core}\"\n",
        "\n",
        "# Creating an instance of CSE\n",
        "student = CSE(\"Vaishnavi\")\n",
        "student.set_branch(\"CSE\")\n",
        "student.set_core(\"Blockchain\")\n",
        "\n",
        "# Using the graduation_details method to print the graduation details\n",
        "print(student.graduation_details())\n"
      ],
      "metadata": {
        "id": "6tiqgZmsACNm",
        "colab": {
          "base_uri": "https://localhost:8080/"
        },
        "outputId": "4a0612a1-3646-4455-aab6-5501b7888692"
      },
      "execution_count": 57,
      "outputs": [
        {
          "output_type": "stream",
          "name": "stdout",
          "text": [
            "Vaishnavi is graduating in CSE with specialization in Blockchain\n"
          ]
        }
      ]
    },
    {
      "cell_type": "markdown",
      "source": [
        "# 3. Polymorphism:\n",
        "\n",
        "Polymorphism allows objects of different classes to be treated as objects of a common superclass. It enables a single interface to represent different types of objects."
      ],
      "metadata": {
        "id": "FZDCth2_-gyl"
      }
    },
    {
      "cell_type": "code",
      "source": [
        "class Bird:\n",
        "    def speak(self):\n",
        "        pass\n",
        "\n",
        "class Duck(Bird):\n",
        "    def speak(self):\n",
        "        return \"Quack!\"\n",
        "\n",
        "class Parrot(Bird):\n",
        "    def speak(self):\n",
        "        return \"Squawk!\"\n",
        "\n",
        "# Using polymorphism with a list of birds\n",
        "birds = [Duck(), Parrot()]\n",
        "\n",
        "for bird in birds:\n",
        "    print(bird.speak())\n"
      ],
      "metadata": {
        "colab": {
          "base_uri": "https://localhost:8080/"
        },
        "id": "TIKBFDeWh_Wk",
        "outputId": "e75ce674-5664-438c-eaec-d3b6207bc777"
      },
      "execution_count": 59,
      "outputs": [
        {
          "output_type": "stream",
          "name": "stdout",
          "text": [
            "Quack!\n",
            "Squawk!\n"
          ]
        }
      ]
    },
    {
      "cell_type": "code",
      "source": [
        "class Employee:\n",
        "  def role(self):\n",
        "    pass\n",
        "\n",
        "class Cyber(Employee):\n",
        "  def role(Self):\n",
        "    return \"Security\"\n",
        "\n",
        "class Developer(Employee):\n",
        "  def role(self):\n",
        "    return \"MERN stack\"\n",
        "\n",
        "employees = [Cyber(), Developer()]\n",
        "\n",
        "for employee in employees:\n",
        "  print(employee.role())"
      ],
      "metadata": {
        "colab": {
          "base_uri": "https://localhost:8080/"
        },
        "id": "RtdZX0T0iCa4",
        "outputId": "0b517421-9fe0-4af6-88f8-e90e649c5bbc"
      },
      "execution_count": 60,
      "outputs": [
        {
          "output_type": "stream",
          "name": "stdout",
          "text": [
            "Security\n",
            "MERN stack\n"
          ]
        }
      ]
    },
    {
      "cell_type": "markdown",
      "source": [
        "# 4. Abstraction:\n",
        "Abstraction is the process of simplifying complex reality by modeling classes based on their essential properties and behaviors, while hiding unnecessary details."
      ],
      "metadata": {
        "id": "MweiAeOxi0XJ"
      }
    },
    {
      "cell_type": "code",
      "source": [
        "from abc import ABC, abstractmethod\n",
        "\n",
        "class Shape(ABC):\n",
        "    @abstractmethod\n",
        "    def area(self):\n",
        "        pass\n",
        "\n",
        "class Circle(Shape):\n",
        "    def __init__(self, radius):\n",
        "        self.radius = radius\n",
        "\n",
        "    def area(self):\n",
        "        return 3.14159 * self.radius * self.radius\n",
        "\n",
        "class Rectangle(Shape):\n",
        "    def __init__(self, width, height):\n",
        "        self.width = width\n",
        "        self.height = height\n",
        "\n",
        "    def area(self):\n",
        "        return self.width * self.height\n",
        "\n",
        "# Creating instances of Circle and Rectangle\n",
        "circle = Circle(5)\n",
        "rectangle = Rectangle(4, 6)\n",
        "\n",
        "print(f\"Circle Area: {circle.area()}\")       # Output: Circle Area: 78.53975\n",
        "print(f\"Rectangle Area: {rectangle.area()}\")  # Output: Rectangle Area: 24\n"
      ],
      "metadata": {
        "colab": {
          "base_uri": "https://localhost:8080/"
        },
        "id": "Dw3ZqXzgiuCP",
        "outputId": "42aa5ce4-8650-46ec-fba8-cc6d9657594b"
      },
      "execution_count": 61,
      "outputs": [
        {
          "output_type": "stream",
          "name": "stdout",
          "text": [
            "Circle Area: 78.53975\n",
            "Rectangle Area: 24\n"
          ]
        }
      ]
    },
    {
      "cell_type": "code",
      "source": [],
      "metadata": {
        "id": "uqAC5xzMi5me"
      },
      "execution_count": null,
      "outputs": []
    }
  ]
}